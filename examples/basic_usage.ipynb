{
 "cells": [
  {
   "cell_type": "markdown",
   "metadata": {},
   "source": [
    "# SysML v2 Python Client - Basic Usage Example\n",
    "\n",
    "This notebook demonstrates basic usage of the `sysmlv2_client` library to interact with a running SysML v2 API server (like the local Flexo instance)."
   ]
  },
  {
   "cell_type": "markdown",
   "metadata": {},
   "source": [
    "## 1. Setup\n",
    "\n",
    "Make sure:\n",
    "1. The local Flexo Docker containers are running (`docker compose up -d` in `flexo-setup/docker-compose/`).\n",
    "2. You have performed the initial Postman org setup if required.\n",
    "3. You have the correct bearer token.\n",
    "4. The `sysmlv2_client` package is accessible (e.g., by running this notebook from the project root directory or installing the package)."
   ]
  },
  {
   "cell_type": "code",
   "execution_count": 37,
   "metadata": {},
   "outputs": [],
   "source": [
    "import sys\n",
    "import os\n",
    "import uuid # To generate unique IDs if needed by API for creation\n",
    "sys.path.insert(0, os.path.abspath('../src'))\n",
    "\n",
    "from sysmlv2_client import SysMLV2Client, SysMLV2Error, SysMLV2NotFoundError\n",
    "import json \n",
    "from pprint import pprint"
   ]
  },
  {
   "cell_type": "markdown",
   "metadata": {},
   "source": [
    "## 2. Initialize the Client\n",
    "\n",
    "Replace `\"Bearer YOUR_TOKEN_HERE\"` with the actual bearer token obtained from `flexo-setup/docker-compose/env/flexo-sysmlv2.env`."
   ]
  },
  {
   "cell_type": "code",
   "execution_count": 38,
   "metadata": {},
   "outputs": [
    {
     "name": "stdout",
     "output_type": "stream",
     "text": [
      "Client initialized successfully!\n"
     ]
    }
   ],
   "source": [
    "BASE_URL = \"http://localhost:8083\" \n",
    "# !!! IMPORTANT: Replace with your actual token !!!\n",
    "BEARER_TOKEN = \"Insert Bearer Token Here\"\n",
    "\n",
    "client = None\n",
    "try:\n",
    "    client = SysMLV2Client(base_url=BASE_URL, bearer_token=BEARER_TOKEN)\n",
    "    print(\"Client initialized successfully!\")\n",
    "except ValueError as e:\n",
    "    print(f\"Error initializing client: {e}\")\n",
    "except Exception as e:\n",
    "    print(f\"An unexpected error occurred during initialization: {e}\")"
   ]
  },
  {
   "cell_type": "markdown",
   "metadata": {},
   "source": [
    "## 3. Project Operations"
   ]
  },
  {
   "cell_type": "code",
   "execution_count": 39,
   "metadata": {},
   "outputs": [
    {
     "name": "stdout",
     "output_type": "stream",
     "text": [
      "--- Getting Projects ---\n",
      "Found 9 projects.\n",
      "  - Name: My Example Project, ID: 2988b76c-0e48-42a1-9f2b-c552874ba6a5\n",
      "  - Name: My Example Project, ID: 911d0df1-25ef-4faf-9d2a-cbda280452dd\n",
      "  - Name: My Client Example Project, ID: 02b82e41-66a7-4498-8a38-6dacffedac1c\n",
      "  - Name: My Example Project, ID: f0be039c-fecc-495c-acfc-0f9011749738\n",
      "  - Name: My Client Example Project, ID: 462374e8-1b70-4680-b021-cf0efb30ab4d\n",
      "  - Name: My Example Project, ID: b26987c9-40fb-4ed6-acf7-74a619dbe9b7\n",
      "  - Name: My Client Example Project, ID: 11702ec3-702a-44f2-8cc6-8438a93cd2c7\n",
      "  - Name: My Example Project, ID: 1b5d04dd-48af-478c-b955-1efc42ea3e22\n",
      "  - Name: My Example Project, ID: 0af94881-b7cc-4fe6-accb-524ef3bc24a0\n"
     ]
    }
   ],
   "source": [
    "if client:\n",
    "    try:\n",
    "        print(\"--- Getting Projects ---\")\n",
    "        projects = client.get_projects()\n",
    "        print(f\"Found {len(projects)} projects.\")\n",
    "        if projects:\n",
    "            for project in projects:\n",
    "                proj_id = project.get('@id', 'N/A')\n",
    "                proj_name = project.get('name', 'N/A')\n",
    "                print(f\"  - Name: {proj_name}, ID: {proj_id}\")\n",
    "        else:\n",
    "            print(\"  (No projects found)\")\n",
    "    except SysMLV2Error as e:\n",
    "        print(f\"Error getting projects: {e}\")"
   ]
  },
  {
   "cell_type": "code",
   "execution_count": 40,
   "metadata": {},
   "outputs": [
    {
     "name": "stdout",
     "output_type": "stream",
     "text": [
      "\n",
      "--- Creating Project ---\n",
      "Project created successfully:\n",
      "{'@id': '39455329-580c-448d-82f8-da06abdec5ef',\n",
      " '@type': 'Project',\n",
      " 'created': '2025-04-08T14:54:46.319279341Z',\n",
      " 'defaultBranch': {'@id': 'b419d432-db8b-4390-9af7-9ed684cc2c5c'},\n",
      " 'description': 'A project created via the Python client for testing',\n",
      " 'name': 'My Client Example Project'}\n"
     ]
    }
   ],
   "source": [
    "# Create a new project (adjust data as needed)\n",
    "created_project = None\n",
    "example_project_id = None # Initialize here to ensure it exists\n",
    "\n",
    "if client:\n",
    "    new_project_data = {\n",
    "        \"@type\": \"Project\",\n",
    "        \"name\": \"My Client Example Project\",\n",
    "        \"description\": \"A project created via the Python client for testing\"\n",
    "    }\n",
    "    try:\n",
    "        print(\"\\n--- Creating Project ---\")\n",
    "        created_project = client.create_project(new_project_data)\n",
    "        print(\"Project created successfully:\")\n",
    "        pprint(created_project)\n",
    "        # Store the ID for later use\n",
    "        example_project_id = created_project.get('@id')\n",
    "        if not example_project_id:\n",
    "             print(\"\\n*** WARNING: Could not extract project ID ('@id') from response! Subsequent steps might fail. ***\")\n",
    "    except SysMLV2Error as e:\n",
    "        print(f\"Error creating project: {e}\")\n",
    "else:\n",
    "    print(\"Client not initialized, skipping project creation.\")"
   ]
  },
  {
   "cell_type": "markdown",
   "metadata": {},
   "source": [
    "## 4. Commit and Element Operations\n",
    "\n",
    "Element creation, update, and deletion are performed by creating new commits with specific payloads in the `change` array."
   ]
  },
  {
   "cell_type": "code",
   "execution_count": 41,
   "metadata": {},
   "outputs": [
    {
     "name": "stdout",
     "output_type": "stream",
     "text": [
      "\n",
      "--- Creating Commit 1 (with element creation) ---\n",
      "Commit 1 created successfully:\n",
      "{'@id': '5827f7c1-6841-4243-ad78-38047f89b477',\n",
      " '@type': 'Commit',\n",
      " 'created': '2025-04-08T14:55:04.543675335Z',\n",
      " 'description': '',\n",
      " 'owningProject': {'@id': '39455329-580c-448d-82f8-da06abdec5ef'},\n",
      " 'previousCommit': None}\n"
     ]
    }
   ],
   "source": [
    "# --- Commit 1: Create initial elements --- \n",
    "commit1_id = None\n",
    "element1_id_placeholder = str(uuid.uuid4()) # Generate placeholder ID if API doesn't assign one on create\n",
    "element2_id_placeholder = str(uuid.uuid4())\n",
    "\n",
    "if client and example_project_id:\n",
    "    commit1_data = {\n",
    "        \"@type\": \"Commit\",\n",
    "        \"description\": \"Commit 1: Create initial elements\",\n",
    "        \"change\": [\n",
    "            {\n",
    "                \"@type\": \"DataVersion\",\n",
    "                \"payload\": {\n",
    "                    \"@id\": element1_id_placeholder, \n",
    "                    \"@type\": \"PartDefinition\", \n",
    "                    \"name\": \"Spacecraft System\"\n",
    "                }\n",
    "            },\n",
    "            {\n",
    "                \"@type\": \"DataVersion\",\n",
    "                \"payload\": {\n",
    "                    \"@id\": element2_id_placeholder,\n",
    "                    \"@type\": \"PartDefinition\",\n",
    "                    \"name\": \"Payload System\"\n",
    "                }\n",
    "            }\n",
    "        ]\n",
    "    }\n",
    "    \n",
    "    try:\n",
    "        print(\"\\n--- Creating Commit 1 (with element creation) ---\")\n",
    "        commit1_response = client.create_commit(example_project_id, commit1_data)\n",
    "        print(\"Commit 1 created successfully:\")\n",
    "        pprint(commit1_response)\n",
    "        commit1_id = commit1_response.get('@id')\n",
    "        if not commit1_id:\n",
    "            print(\"\\n*** WARNING: Could not extract commit ID ('@id') from response! ***\")\n",
    "    except SysMLV2Error as e:\n",
    "        print(f\"Error creating commit 1: {e}\")\n",
    "else:\n",
    "    print(\"\\nSkipping Commit 1 because client or project ID is missing.\")"
   ]
  },
  {
   "cell_type": "code",
   "execution_count": 42,
   "metadata": {},
   "outputs": [
    {
     "name": "stdout",
     "output_type": "stream",
     "text": [
      "\n",
      "--- Listing elements at Commit 1 (5827f7c1-6841-4243-ad78-38047f89b477) ---\n",
      "Found 2 elements:\n",
      "[{'@id': '20d06bda-a547-4a90-8023-e7c4cb0ffb92',\n",
      "  '@type': 'PartDefinition',\n",
      "  'name': 'Payload System'},\n",
      " {'@id': 'b91022ba-41d0-4448-a2b1-538eb8668104',\n",
      "  '@type': 'PartDefinition',\n",
      "  'name': 'Spacecraft System'}]\n",
      "\n",
      "Found Payload System ID: 20d06bda-a547-4a90-8023-e7c4cb0ffb92\n",
      "Found Spacecraft System ID: b91022ba-41d0-4448-a2b1-538eb8668104\n"
     ]
    }
   ],
   "source": [
    "# --- List elements after Commit 1 to find actual IDs --- \n",
    "payload_system_element_id = None\n",
    "spacecraft_system_element_id = None\n",
    "\n",
    "if client and example_project_id and commit1_id:\n",
    "    try:\n",
    "        print(f\"\\n--- Listing elements at Commit 1 ({commit1_id}) ---\")\n",
    "        elements_c1 = client.list_elements(example_project_id, commit1_id)\n",
    "        print(f\"Found {len(elements_c1)} elements:\")\n",
    "        pprint(elements_c1)\n",
    "        \n",
    "        # Find the IDs based on name \n",
    "        for elem in elements_c1:\n",
    "            if elem.get('name') == \"Payload System\":\n",
    "                payload_system_element_id = elem.get('@id')\n",
    "            elif elem.get('name') == \"Spacecraft System\":\n",
    "                spacecraft_system_element_id = elem.get('@id')\n",
    "                \n",
    "        print(f\"\\nFound Payload System ID: {payload_system_element_id}\")\n",
    "        print(f\"Found Spacecraft System ID: {spacecraft_system_element_id}\")\n",
    "        \n",
    "        if not payload_system_element_id or not spacecraft_system_element_id:\n",
    "            print(\"\\n*** WARNING: Could not find expected element IDs after commit 1! ***\")\n",
    "            \n",
    "    except SysMLV2Error as e:\n",
    "        print(f\"Error listing elements after commit 1: {e}\")\n",
    "else:\n",
    "    print(\"\\nSkipping element listing because client, project ID, or commit 1 ID is missing.\")"
   ]
  },
  {
   "cell_type": "code",
   "execution_count": 43,
   "metadata": {},
   "outputs": [
    {
     "name": "stdout",
     "output_type": "stream",
     "text": [
      "\n",
      "--- Creating Commit 2 (with element update) ---\n",
      "Commit 2 created successfully:\n",
      "{'@id': '5a5aef4b-1284-4cef-bd73-dd2874e87d09',\n",
      " '@type': 'Commit',\n",
      " 'created': '2025-04-08T14:55:16.851795133Z',\n",
      " 'description': '',\n",
      " 'owningProject': {'@id': '39455329-580c-448d-82f8-da06abdec5ef'},\n",
      " 'previousCommit': None}\n"
     ]
    }
   ],
   "source": [
    "# --- Commit 2: Update Payload System name --- \n",
    "commit2_id = None\n",
    "\n",
    "if client and example_project_id and commit1_id and payload_system_element_id:\n",
    "    commit2_data = {\n",
    "        \"@type\": \"Commit\",\n",
    "        \"description\": \"Commit 2: Update Payload System name\",\n",
    "        \"previousCommit\": {\"@id\": commit1_id},\n",
    "        \"change\": [\n",
    "            {\n",
    "                \"@type\": \"DataVersion\",\n",
    "                \"identity\": {\"@id\": payload_system_element_id},\n",
    "                \"payload\": {\n",
    "                    \"@id\": payload_system_element_id, \n",
    "                    \"@type\": \"PartDefinition\", \n",
    "                    \"name\": \"Updated Payload System Name\" \n",
    "                }\n",
    "            }\n",
    "        ]\n",
    "    }\n",
    "    \n",
    "    try:\n",
    "        print(\"\\n--- Creating Commit 2 (with element update) ---\")\n",
    "        commit2_response = client.create_commit(example_project_id, commit2_data)\n",
    "        print(\"Commit 2 created successfully:\")\n",
    "        pprint(commit2_response)\n",
    "        commit2_id = commit2_response.get('@id')\n",
    "        if not commit2_id:\n",
    "            print(\"\\n*** WARNING: Could not extract commit ID ('@id') from response! ***\")\n",
    "    except SysMLV2Error as e:\n",
    "        print(f\"Error creating commit 2: {e}\")\n",
    "else:\n",
    "    print(\"\\nSkipping Commit 2 because prerequisite data is missing.\")"
   ]
  },
  {
   "cell_type": "code",
   "execution_count": 44,
   "metadata": {},
   "outputs": [
    {
     "name": "stdout",
     "output_type": "stream",
     "text": [
      "\n",
      "--- Listing elements at Commit 2 (5a5aef4b-1284-4cef-bd73-dd2874e87d09) ---\n",
      "Found 2 elements:\n",
      "[{'@id': '20d06bda-a547-4a90-8023-e7c4cb0ffb92',\n",
      "  '@type': 'PartDefinition',\n",
      "  'name': 'Updated Payload System Name'},\n",
      " {'@id': 'b91022ba-41d0-4448-a2b1-538eb8668104',\n",
      "  '@type': 'PartDefinition',\n",
      "  'name': 'Spacecraft System'}]\n"
     ]
    }
   ],
   "source": [
    "# --- List elements after Commit 2 --- \n",
    "if client and example_project_id and commit2_id:\n",
    "    try:\n",
    "        print(f\"\\n--- Listing elements at Commit 2 ({commit2_id}) ---\")\n",
    "        elements_c2 = client.list_elements(example_project_id, commit2_id)\n",
    "        print(f\"Found {len(elements_c2)} elements:\")\n",
    "        pprint(elements_c2)\n",
    "    except SysMLV2Error as e:\n",
    "        print(f\"Error listing elements after commit 2: {e}\")\n",
    "else:\n",
    "    print(\"\\nSkipping element listing because client, project ID, or commit 2 ID is missing.\")"
   ]
  },
  {
   "cell_type": "code",
   "execution_count": 45,
   "metadata": {},
   "outputs": [
    {
     "name": "stdout",
     "output_type": "stream",
     "text": [
      "\n",
      "--- Creating Commit 3 (with element deletion) ---\n",
      "Commit 3 created successfully:\n",
      "{'@id': 'a9b323fc-b184-465b-a7a9-ff3a1ca1d7ae',\n",
      " '@type': 'Commit',\n",
      " 'created': '2025-04-08T14:55:24.097265053Z',\n",
      " 'description': '',\n",
      " 'owningProject': {'@id': '39455329-580c-448d-82f8-da06abdec5ef'},\n",
      " 'previousCommit': None}\n"
     ]
    }
   ],
   "source": [
    "# --- Commit 3: Delete Payload System --- \n",
    "commit3_id = None\n",
    "\n",
    "if client and example_project_id and commit2_id and payload_system_element_id:\n",
    "    commit3_data = {\n",
    "        \"@type\": \"Commit\",\n",
    "        \"description\": \"Commit 3: Delete Payload System\",\n",
    "        \"previousCommit\": {\"@id\": commit2_id},\n",
    "        \"change\": [\n",
    "            {\n",
    "                \"@type\": \"DataVersion\",\n",
    "                \"identity\": {\"@id\": payload_system_element_id},\n",
    "                \"payload\": None \n",
    "            }\n",
    "        ]\n",
    "    }\n",
    "    \n",
    "    try:\n",
    "        print(\"\\n--- Creating Commit 3 (with element deletion) ---\")\n",
    "        commit3_response = client.create_commit(example_project_id, commit3_data)\n",
    "        print(\"Commit 3 created successfully:\")\n",
    "        pprint(commit3_response)\n",
    "        commit3_id = commit3_response.get('@id')\n",
    "        if not commit3_id:\n",
    "            print(\"\\n*** WARNING: Could not extract commit ID ('@id') from response! ***\")\n",
    "    except SysMLV2Error as e:\n",
    "        print(f\"Error creating commit 3: {e}\")\n",
    "else:\n",
    "    print(\"\\nSkipping Commit 3 because prerequisite data is missing.\")"
   ]
  },
  {
   "cell_type": "code",
   "execution_count": 46,
   "metadata": {},
   "outputs": [
    {
     "name": "stdout",
     "output_type": "stream",
     "text": [
      "\n",
      "--- Listing elements at Commit 3 (a9b323fc-b184-465b-a7a9-ff3a1ca1d7ae) ---\n",
      "Found 1 elements:\n",
      "[{'@id': 'b91022ba-41d0-4448-a2b1-538eb8668104',\n",
      "  '@type': 'PartDefinition',\n",
      "  'name': 'Spacecraft System'}]\n"
     ]
    }
   ],
   "source": [
    "# --- List elements after Commit 3 --- \n",
    "if client and example_project_id and commit3_id:\n",
    "    try:\n",
    "        print(f\"\\n--- Listing elements at Commit 3 ({commit3_id}) ---\")\n",
    "        elements_c3 = client.list_elements(example_project_id, commit3_id)\n",
    "        print(f\"Found {len(elements_c3)} elements:\")\n",
    "        pprint(elements_c3)\n",
    "    except SysMLV2Error as e:\n",
    "        print(f\"Error listing elements after commit 3: {e}\")\n",
    "else:\n",
    "    print(\"\\nSkipping element listing because client, project ID, or commit 3 ID is missing.\")"
   ]
  },
  {
   "cell_type": "markdown",
   "metadata": {},
   "source": [
    "## 5. Branch Management"
   ]
  },
  {
   "cell_type": "code",
   "execution_count": 47,
   "metadata": {},
   "outputs": [
    {
     "name": "stdout",
     "output_type": "stream",
     "text": [
      "\n",
      "--- Listing branches for project 39455329-580c-448d-82f8-da06abdec5ef ---\n",
      "Found 1 branches:\n",
      "[{'@id': 'b419d432-db8b-4390-9af7-9ed684cc2c5c',\n",
      "  '@type': 'Branch',\n",
      "  'created': '2025-04-08T14:54:54.001899136Z',\n",
      "  'head': {'@id': 'a9b323fc-b184-465b-a7a9-ff3a1ca1d7ae'},\n",
      "  'name': 'Initial',\n",
      "  'owningProject': {'@id': '39455329-580c-448d-82f8-da06abdec5ef'},\n",
      "  'referencedCommit': {'@id': 'a9b323fc-b184-465b-a7a9-ff3a1ca1d7ae'}}]\n"
     ]
    }
   ],
   "source": [
    "# --- List Branches --- \n",
    "if client and example_project_id:\n",
    "    try:\n",
    "        print(f\"\\n--- Listing branches for project {example_project_id} ---\")\n",
    "        branches = client.list_branches(example_project_id)\n",
    "        print(f\"Found {len(branches)} branches:\")\n",
    "        pprint(branches)\n",
    "    except SysMLV2Error as e:\n",
    "        print(f\"Error listing branches: {e}\")\n",
    "else:\n",
    "    print(\"\\nSkipping branch listing because client or project ID is missing.\")"
   ]
  },
  {
   "cell_type": "code",
   "execution_count": 48,
   "metadata": {},
   "outputs": [
    {
     "name": "stdout",
     "output_type": "stream",
     "text": [
      "\n",
      "--- Creating branch 'feature/my-new-feature' pointing to commit a9b323fc-b184-465b-a7a9-ff3a1ca1d7ae ---\n",
      "Branch created successfully:\n",
      "{'@id': '3c74dd55-3082-4209-ba0a-0ac86b47cff6',\n",
      " '@type': 'Branch',\n",
      " 'created': '2025-04-08T14:55:32.131896376Z',\n",
      " 'head': {'@id': 'a9b323fc-b184-465b-a7a9-ff3a1ca1d7ae'},\n",
      " 'name': 'feature/my-new-feature',\n",
      " 'owningProject': {'@id': '39455329-580c-448d-82f8-da06abdec5ef'},\n",
      " 'referencedCommit': {'@id': 'a9b323fc-b184-465b-a7a9-ff3a1ca1d7ae'}}\n"
     ]
    }
   ],
   "source": [
    "# --- Create Branch --- \n",
    "example_branch_id = None\n",
    "created_branch = None\n",
    "\n",
    "# Create branch pointing to the latest commit \n",
    "if client and example_project_id and commit3_id:\n",
    "    branch_data = {\n",
    "        \"@type\": \"Branch\",\n",
    "        \"name\": \"feature/my-new-feature\",\n",
    "        \"head\": {\"@id\": commit3_id}\n",
    "    }\n",
    "    try:\n",
    "        print(f\"\\n--- Creating branch 'feature/my-new-feature' pointing to commit {commit3_id} ---\")\n",
    "        created_branch = client.create_branch(example_project_id, branch_data)\n",
    "        print(\"Branch created successfully:\")\n",
    "        pprint(created_branch)\n",
    "        example_branch_id = created_branch.get('@id')\n",
    "        if not example_branch_id:\n",
    "            print(\"\\n*** WARNING: Could not extract branch ID ('@id') from response! ***\")\n",
    "    except SysMLV2Error as e:\n",
    "        print(f\"Error creating branch: {e}\")\n",
    "else:\n",
    "    print(\"\\nSkipping branch creation because prerequisite data is missing.\")"
   ]
  },
  {
   "cell_type": "code",
   "execution_count": 49,
   "metadata": {},
   "outputs": [
    {
     "name": "stdout",
     "output_type": "stream",
     "text": [
      "\n",
      "--- Getting branch by ID 3c74dd55-3082-4209-ba0a-0ac86b47cff6 ---\n",
      "Branch retrieved successfully:\n",
      "{'@id': '3c74dd55-3082-4209-ba0a-0ac86b47cff6',\n",
      " '@type': 'Branch',\n",
      " 'created': '2025-04-08T14:55:32.131896376Z',\n",
      " 'head': {'@id': 'a9b323fc-b184-465b-a7a9-ff3a1ca1d7ae'},\n",
      " 'name': 'feature/my-new-feature',\n",
      " 'owningProject': {'@id': '39455329-580c-448d-82f8-da06abdec5ef'},\n",
      " 'referencedCommit': {'@id': 'a9b323fc-b184-465b-a7a9-ff3a1ca1d7ae'}}\n"
     ]
    }
   ],
   "source": [
    "# --- Get Branch By ID --- \n",
    "if client and example_project_id and example_branch_id:\n",
    "    try:\n",
    "        print(f\"\\n--- Getting branch by ID {example_branch_id} ---\")\n",
    "        branch = client.get_branch_by_id(example_project_id, example_branch_id)\n",
    "        print(\"Branch retrieved successfully:\")\n",
    "        pprint(branch)\n",
    "    except SysMLV2NotFoundError:\n",
    "        print(f\"Branch {example_branch_id} not found.\")\n",
    "    except SysMLV2Error as e:\n",
    "        print(f\"Error getting branch: {e}\")\n",
    "else:\n",
    "    print(\"\\nSkipping get branch by ID because prerequisite data is missing.\")"
   ]
  },
  {
   "cell_type": "markdown",
   "metadata": {},
   "source": [
    "## 6. Tag Management"
   ]
  },
  {
   "cell_type": "code",
   "execution_count": 50,
   "metadata": {},
   "outputs": [
    {
     "name": "stdout",
     "output_type": "stream",
     "text": [
      "\n",
      "--- Listing tags for project 39455329-580c-448d-82f8-da06abdec5ef ---\n",
      "Found 0 tags:\n",
      "[]\n"
     ]
    }
   ],
   "source": [
    "# --- List Tags --- \n",
    "if client and example_project_id:\n",
    "    try:\n",
    "        print(f\"\\n--- Listing tags for project {example_project_id} ---\")\n",
    "        tags = client.list_tags(example_project_id)\n",
    "        print(f\"Found {len(tags)} tags:\")\n",
    "        pprint(tags)\n",
    "    except SysMLV2Error as e:\n",
    "        print(f\"Error listing tags: {e}\")\n",
    "else:\n",
    "    print(\"\\nSkipping tag listing because client or project ID is missing.\")"
   ]
  },
  {
   "cell_type": "code",
   "execution_count": 51,
   "metadata": {},
   "outputs": [
    {
     "name": "stdout",
     "output_type": "stream",
     "text": [
      "\n",
      "--- Creating tag 'v1.0-alpha' pointing to commit 5a5aef4b-1284-4cef-bd73-dd2874e87d09 ---\n",
      "Tag created successfully:\n",
      "{'@id': '3fd9d8c7-15ff-4124-be3f-ad73b3f102df',\n",
      " '@type': 'Tag',\n",
      " 'created': '2025-04-08T14:55:43.528545214Z',\n",
      " 'name': 'v1.0-alpha',\n",
      " 'owningProject': {'@id': '39455329-580c-448d-82f8-da06abdec5ef'},\n",
      " 'referencedCommit': {'@id': '5a5aef4b-1284-4cef-bd73-dd2874e87d09'},\n",
      " 'taggedCommit': {'@id': '5a5aef4b-1284-4cef-bd73-dd2874e87d09'}}\n"
     ]
    }
   ],
   "source": [
    "# --- Create Tag --- \n",
    "example_tag_id = None\n",
    "created_tag = None\n",
    "\n",
    "# Create tag pointing to commit 2\n",
    "if client and example_project_id and commit2_id:\n",
    "    tag_data = {\n",
    "        \"@type\": \"Tag\",\n",
    "        \"name\": \"v1.0-alpha\",\n",
    "        \"taggedCommit\": {\"@id\": commit2_id}\n",
    "    }\n",
    "    try:\n",
    "        print(f\"\\n--- Creating tag 'v1.0-alpha' pointing to commit {commit2_id} ---\")\n",
    "        created_tag = client.create_tag(example_project_id, tag_data)\n",
    "        print(\"Tag created successfully:\")\n",
    "        pprint(created_tag)\n",
    "        example_tag_id = created_tag.get('@id')\n",
    "        if not example_tag_id:\n",
    "            print(\"\\n*** WARNING: Could not extract tag ID ('@id') from response! ***\")\n",
    "    except SysMLV2Error as e:\n",
    "        print(f\"Error creating tag: {e}\")\n",
    "else:\n",
    "    print(\"\\nSkipping tag creation because prerequisite data is missing.\")"
   ]
  },
  {
   "cell_type": "code",
   "execution_count": 52,
   "metadata": {},
   "outputs": [
    {
     "name": "stdout",
     "output_type": "stream",
     "text": [
      "\n",
      "--- Getting tag by ID 3fd9d8c7-15ff-4124-be3f-ad73b3f102df ---\n",
      "Tag retrieved successfully:\n",
      "{'@id': '3fd9d8c7-15ff-4124-be3f-ad73b3f102df',\n",
      " '@type': 'Tag',\n",
      " 'created': '2025-04-08T14:55:43.528545214Z',\n",
      " 'name': 'v1.0-alpha',\n",
      " 'owningProject': {'@id': '39455329-580c-448d-82f8-da06abdec5ef'},\n",
      " 'referencedCommit': {'@id': '5a5aef4b-1284-4cef-bd73-dd2874e87d09'},\n",
      " 'taggedCommit': {'@id': '5a5aef4b-1284-4cef-bd73-dd2874e87d09'}}\n"
     ]
    }
   ],
   "source": [
    "# --- Get Tag By ID --- \n",
    "if client and example_project_id and example_tag_id:\n",
    "    try:\n",
    "        print(f\"\\n--- Getting tag by ID {example_tag_id} ---\")\n",
    "        tag = client.get_tag_by_id(example_project_id, example_tag_id)\n",
    "        print(\"Tag retrieved successfully:\")\n",
    "        pprint(tag)\n",
    "    except SysMLV2NotFoundError:\n",
    "        print(f\"Tag {example_tag_id} not found.\")\n",
    "    except SysMLV2Error as e:\n",
    "        print(f\"Error getting tag: {e}\")\n",
    "else:\n",
    "    print(\"\\nSkipping get tag by ID because prerequisite data is missing.\")"
   ]
  },
  {
   "cell_type": "markdown",
   "metadata": {},
   "source": [
    "## 7. Cleanup (Optional)"
   ]
  },
  {
   "cell_type": "code",
   "execution_count": null,
   "metadata": {},
   "outputs": [],
   "source": [
    "# --- Delete Tag --- \n",
    "if client and example_project_id and example_tag_id:\n",
    "    try:\n",
    "        print(f\"\\n--- Deleting tag {example_tag_id} ---\")\n",
    "        client.delete_tag(example_project_id, example_tag_id)\n",
    "        print(f\"Tag {example_tag_id} deleted successfully.\")\n",
    "    except SysMLV2NotFoundError:\n",
    "        print(f\"Tag {example_tag_id} not found for deletion.\")\n",
    "    except SysMLV2Error as e:\n",
    "        print(f\"Error deleting tag: {e}\")\n",
    "else:\n",
    "    print(\"\\nSkipping delete tag because prerequisite data is missing.\")"
   ]
  },
  {
   "cell_type": "code",
   "execution_count": null,
   "metadata": {},
   "outputs": [],
   "source": [
    "# --- Delete Branch --- \n",
    "if client and example_project_id and example_branch_id:\n",
    "    try:\n",
    "        print(f\"\\n--- Deleting branch {example_branch_id} ---\")\n",
    "        client.delete_branch(example_project_id, example_branch_id)\n",
    "        print(f\"Branch {example_branch_id} deleted successfully.\")\n",
    "    except SysMLV2NotFoundError:\n",
    "        print(f\"Branch {example_branch_id} not found for deletion.\")\n",
    "    except SysMLV2Error as e:\n",
    "        print(f\"Error deleting branch: {e}\")\n",
    "else:\n",
    "    print(\"\\nSkipping delete branch because prerequisite data is missing.\")"
   ]
  }
 ],
 "metadata": {
  "kernelspec": {
   "display_name": "Python 3",
   "language": "python",
   "name": "python3"
  },
  "language_info": {
   "codemirror_mode": {
    "name": "ipython",
    "version": 3
   },
   "file_extension": ".py",
   "mimetype": "text/x-python",
   "name": "python",
   "nbconvert_exporter": "python",
   "pygments_lexer": "ipython3",
   "version": "3.9.7"
  }
 },
 "nbformat": 4,
 "nbformat_minor": 4
}
