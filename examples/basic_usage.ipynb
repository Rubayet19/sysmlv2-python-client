{
 "cells": [
  {
   "cell_type": "markdown",
   "metadata": {},
   "source": [
    "# SysML v2 Python Client - Basic Usage Example\n",
    "\n",
    "This notebook demonstrates basic usage of the `sysmlv2_client` library to interact with a running SysML v2 API server (like the local Flexo instance)."
   ]
  },
  {
   "cell_type": "markdown",
   "metadata": {},
   "source": [
    "## 1. Setup\n",
    "\n",
    "Make sure:\n",
    "1. The local Flexo Docker containers are running (`docker compose up -d` in `flexo-setup/docker-compose/`).\n",
    "2. You have performed the initial Postman org setup if required.\n",
    "3. You have the correct bearer token.\n",
    "4. The `sysmlv2_client` package is accessible (e.g., by running this notebook from the project root directory or installing the package)."
   ]
  },
  {
   "cell_type": "code",
   "execution_count": null,
   "metadata": {},
   "outputs": [],
   "source": [
    "# Adjust the path if necessary to import from the src directory\n",
    "import sys\n",
    "import os\n",
    "sys.path.insert(0, os.path.abspath('../src'))\n",
    "\n",
    "from sysmlv2_client import SysMLV2Client, SysMLV2Error, SysMLV2NotFoundError\n",
    "import json # For pretty printing"
   ]
  },
  {
   "cell_type": "markdown",
   "metadata": {},
   "source": [
    "## 2. Initialize the Client\n",
    "\n",
    "Replace `\"Bearer YOUR_TOKEN_HERE\"` with the actual bearer token obtained from `flexo-setup/docker-compose/env/flexo-sysmlv2.env`."
   ]
  },
  {
   "cell_type": "code",
   "execution_count": null,
   "metadata": {},
   "outputs": [],
   "source": [
    "BASE_URL = \"http://localhost:8083\" # Flexo SysMLv2 service runs on 8083\n",
    "# !!! IMPORTANT: Replace with your actual token !!!\n",
    "BEARER_TOKEN = \"Bearer YOUR_TOKEN_HERE\"\n",
    "\n",
    "try:\n",
    "    client = SysMLV2Client(base_url=BASE_URL, bearer_token=BEARER_TOKEN)\n",
    "    print(\"Client initialized successfully!\")\n",
    "except ValueError as e:\n",
    "    print(f\"Error initializing client: {e}\")\n",
    "except Exception as e:\n",
    "    print(f\"An unexpected error occurred during initialization: {e}\")"
   ]
  },
  {
   "cell_type": "markdown",
   "metadata": {},
   "source": [
    "## 3. Project Operations"
   ]
  },
  {
   "cell_type": "code",
   "execution_count": null,
   "metadata": {},
   "outputs": [],
   "source": [
    "try:\n",
    "    print(\"--- Getting Projects ---\")\n",
    "    projects = client.get_projects()\n",
    "    print(f\"Found {len(projects)} projects:\")\n",
    "    print(json.dumps(projects, indent=2))\n",
    "except SysMLV2Error as e:\n",
    "    print(f\"Error getting projects: {e}\")"
   ]
  },
  {
   "cell_type": "code",
   "execution_count": null,
   "metadata": {},
   "outputs": [],
   "source": [
    "# Create a new project (adjust data as needed)\n",
    "new_project_data = {\n",
    "    \"@type\": \"Project\",\n",
    "    \"name\": \"My Example Project\",\n",
    "    \"description\": \"A project created via the Python client\"\n",
    "    # Add other required fields based on API spec if necessary\n",
    "}\n",
    "\n",
    "created_project = None\n",
    "try:\n",
    "    print(\"\\n--- Creating Project ---\")\n",
    "    created_project = client.create_project(new_project_data)\n",
    "    print(\"Project created successfully:\")\n",
    "    print(json.dumps(created_project, indent=2))\n",
    "    # Store the ID for later use\n",
    "    example_project_id = created_project.get('id')\n",
    "except SysMLV2Error as e:\n",
    "    print(f\"Error creating project: {e}\")"
   ]
  },
  {
   "cell_type": "markdown",
   "metadata": {},
   "source": [
    "## 4. Element Operations\n",
    "\n",
    "These operations require a valid `project_id` (obtained from the previous step)."
   ]
  },
  {
   "cell_type": "code",
   "execution_count": null,
   "metadata": {},
   "outputs": [],
   "source": [
    "example_element_id = None\n",
    "\n",
    "if created_project and example_project_id:\n",
    "    # Create an element\n",
    "    new_element_data = {\n",
    "        \"@type\": \"PartDefinition\", # Example type, adjust as needed\n",
    "        \"name\": \"My First Element\"\n",
    "    }\n",
    "    try:\n",
    "        print(\"\\n--- Creating Element ---\")\n",
    "        created_element = client.create_element(example_project_id, new_element_data)\n",
    "        print(\"Element created successfully:\")\n",
    "        print(json.dumps(created_element, indent=2))\n",
    "        example_element_id = created_element.get('id')\n",
    "    except SysMLV2Error as e:\n",
    "        print(f\"Error creating element: {e}\")\n",
    "else:\n",
    "    print(\"\\nSkipping element operations because project creation failed or project ID is missing.\")"
   ]
  },
  {
   "cell_type": "code",
   "execution_count": null,
   "metadata": {},
   "outputs": [],
   "source": [
    "# Get the created element\n",
    "if example_project_id and example_element_id:\n",
    "    try:\n",
    "        print(\"\\n--- Getting Element ---\")\n",
    "        element = client.get_element(example_project_id, example_element_id)\n",
    "        print(\"Element retrieved successfully:\")\n",
    "        print(json.dumps(element, indent=2))\n",
    "    except SysMLV2NotFoundError:\n",
    "        print(f\"Element {example_element_id} not found.\")\n",
    "    except SysMLV2Error as e:\n",
    "        print(f\"Error getting element: {e}\")\n",
    "else:\n",
    "    print(\"\\nSkipping get element because project/element ID is missing.\")"
   ]
  },
  {
   "cell_type": "code",
   "execution_count": null,
   "metadata": {},
   "outputs": [],
   "source": [
    "# Update the element\n",
    "if example_project_id and example_element_id:\n",
    "    update_data = {\n",
    "        \"name\": \"My Updated Element Name\"\n",
    "    }\n",
    "    try:\n",
    "        print(\"\\n--- Updating Element ---\")\n",
    "        updated_element = client.update_element(example_project_id, example_element_id, update_data)\n",
    "        print(\"Element updated successfully:\")\n",
    "        print(json.dumps(updated_element, indent=2))\n",
    "    except SysMLV2NotFoundError:\n",
    "        print(f\"Element {example_element_id} not found for update.\")\n",
    "    except SysMLV2Error as e:\n",
    "        print(f\"Error updating element: {e}\")\n",
    "else:\n",
    "    print(\"\\nSkipping update element because project/element ID is missing.\")"
   ]
  },
  {
   "cell_type": "markdown",
   "metadata": {},
   "source": [
    "## 5. Commit Operations (Optional)"
   ]
  },
  {
   "cell_type": "code",
   "execution_count": null,
   "metadata": {},
   "outputs": [],
   "source": [
    "# Create a commit (optional, structure might vary)\n",
    "if example_project_id:\n",
    "    commit_data = {\n",
    "        \"description\": \"Committing changes made via client\",\n",
    "        # \"parentCommitId\": \"some_previous_commit_id\" # Optional\n",
    "    }\n",
    "    try:\n",
    "        print(\"\\n--- Creating Commit ---\")\n",
    "        new_commit = client.create_commit(example_project_id, commit_data)\n",
    "        print(\"Commit created successfully:\")\n",
    "        print(json.dumps(new_commit, indent=2))\n",
    "    except SysMLV2Error as e:\n",
    "        print(f\"Error creating commit: {e}\")\n",
    "else:\n",
    "     print(\"\\nSkipping create commit because project ID is missing.\")"
   ]
  },
  {
   "cell_type": "markdown",
   "metadata": {},
   "source": [
    "## 6. Cleanup (Optional)"
   ]
  },
  {
   "cell_type": "code",
   "execution_count": null,
   "metadata": {},
   "outputs": [],
   "source": [
    "# Delete the created element\n",
    "if example_project_id and example_element_id:\n",
    "    try:\n",
    "        print(\"\\n--- Deleting Element ---\")\n",
    "        client.delete_element(example_project_id, example_element_id)\n",
    "        print(f\"Element {example_element_id} deleted successfully.\")\n",
    "    except SysMLV2NotFoundError:\n",
    "        print(f\"Element {example_element_id} not found for deletion.\")\n",
    "    except SysMLV2Error as e:\n",
    "        print(f\"Error deleting element: {e}\")\n",
    "else:\n",
    "    print(\"\\nSkipping delete element because project/element ID is missing.\")\n",
    "\n",
    "# Note: Deleting the project itself might require a different API call\n",
    "# or might not be implemented in this basic client."
   ]
  },
  {
   "cell_type": "code",
   "execution_count": null,
   "metadata": {},
   "outputs": [],
   "source": []
  }
 ],
 "metadata": {
  "kernelspec": {
   "display_name": "Python 3",
   "language": "python",
   "name": "python3"
  },
  "language_info": {
   "codemirror_mode": {
    "name": "ipython",
    "version": 3
   },
   "file_extension": ".py",
   "mimetype": "text/x-python",
   "name": "python",
   "nbconvert_exporter": "python",
   "pygments_lexer": "ipython3",
   "version": "3.9.7"
  }
 },
 "nbformat": 4,
 "nbformat_minor": 4
}